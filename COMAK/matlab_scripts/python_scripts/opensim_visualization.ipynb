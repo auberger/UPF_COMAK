{
 "cells": [
  {
   "cell_type": "code",
   "execution_count": 7,
   "metadata": {},
   "outputs": [
    {
     "name": "stdout",
     "output_type": "stream",
     "text": [
      "[info] Updating Model file from 20303 to latest format...\n",
      "[info] Loaded model 3DGaitModel2392 from file /Users/admin/Documents/OpenSim/4.3/Models/Gait2392_Simbody/gait2392_simbody.osim\n",
      "[warning] Couldn't find file 'treadmill.vtp'.\n",
      "[warning] Couldn't find file 'sacrum.vtp'.\n",
      "[warning] Couldn't find file 'pelvis.vtp'.\n",
      "[warning] Couldn't find file 'l_pelvis.vtp'.\n",
      "[warning] Couldn't find file 'femur_r.vtp'.\n",
      "[warning] Couldn't find file 'tibia_r.vtp'.\n",
      "[warning] Couldn't find file 'fibula.vtp'.\n",
      "[warning] Couldn't find file 'talus.vtp'.\n",
      "[warning] Couldn't find file 'foot.vtp'.\n",
      "[warning] Couldn't find file 'bofoot.vtp'.\n",
      "[warning] Couldn't find file 'femur_l.vtp'.\n",
      "[warning] Couldn't find file 'tibia_l.vtp'.\n",
      "[warning] Couldn't find file 'l_fibula.vtp'.\n",
      "[warning] Couldn't find file 'l_talus.vtp'.\n",
      "[warning] Couldn't find file 'l_foot.vtp'.\n",
      "[warning] Couldn't find file 'l_bofoot.vtp'.\n",
      "[warning] Couldn't find file 'hat_spine.vtp'.\n",
      "[warning] Couldn't find file 'hat_jaw.vtp'.\n",
      "[warning] Couldn't find file 'hat_skull.vtp'.\n",
      "[warning] Couldn't find file 'hat_ribs.vtp'.\n",
      "[info] ControllerSet 'Controllers' was renamed and is being reset to 'controllerset'.\n",
      "[info] ComponentSet 'MiscComponents' was renamed and is being reset to 'componentset'.\n",
      "swig/python detected a memory leak of type 'TimeSeriesTable *', no destructor found.\n"
     ]
    },
    {
     "ename": "AttributeError",
     "evalue": "'SwigPyObject' object has no attribute 'getIndependentColumn'",
     "output_type": "error",
     "traceback": [
      "\u001b[0;31m---------------------------------------------------------------------------\u001b[0m",
      "\u001b[0;31mAttributeError\u001b[0m                            Traceback (most recent call last)",
      "Cell \u001b[0;32mIn[7], line 21\u001b[0m\n\u001b[1;32m     18\u001b[0m state_data \u001b[38;5;241m=\u001b[39m storage\u001b[38;5;241m.\u001b[39mexportToTable()\n\u001b[1;32m     20\u001b[0m \u001b[38;5;66;03m# Get time column\u001b[39;00m\n\u001b[0;32m---> 21\u001b[0m time \u001b[38;5;241m=\u001b[39m \u001b[43mstate_data\u001b[49m\u001b[38;5;241;43m.\u001b[39;49m\u001b[43mgetIndependentColumn\u001b[49m()\n\u001b[1;32m     23\u001b[0m \u001b[38;5;66;03m# Function to update the model state from the storage file\u001b[39;00m\n\u001b[1;32m     24\u001b[0m \u001b[38;5;28;01mdef\u001b[39;00m \u001b[38;5;21mupdate_model_state\u001b[39m(model, state, row):\n",
      "\u001b[0;31mAttributeError\u001b[0m: 'SwigPyObject' object has no attribute 'getIndependentColumn'"
     ]
    }
   ],
   "source": [
    "model_file = '/Users/admin/Downloads/lenhart2015_003_scaled.osim'\n",
    "motion_file = '/Users/admin/Downloads/walking_03_activation.sto'\n",
    "\n",
    "\n",
    "import opensim as osim\n",
    "import numpy as np\n",
    "import matplotlib.pyplot as plt\n",
    "import imageio\n",
    "\n",
    "# Load the model\n",
    "model = osim.Model(model_file)\n",
    "model.initSystem()\n",
    "\n",
    "# Load the states file\n",
    "storage = osim.Storage(motion_file)\n",
    "\n",
    "# Extract the state data\n",
    "state_data = storage.exportToTable()\n",
    "\n",
    "# Get time column\n",
    "time = state_data.getIndependentColumn()\n",
    "\n",
    "# Function to update the model state from the storage file\n",
    "def update_model_state(model, state, row):\n",
    "    state.setTime(time[row])\n",
    "    for i in range(state_data.getNumColumns()):\n",
    "        model.getCoordinateSet().get(i-1).setValue(state, state_data.getDependentColumnAtIndex(i).get(row))\n",
    "    model.assemble(state)\n",
    "\n",
    "# Initialize the system\n",
    "state = model.initSystem()\n",
    "\n",
    "# Visualization parameters\n",
    "output_dir = 'output_frames'\n",
    "os.makedirs(output_dir, exist_ok=True)\n",
    "\n",
    "# Create a list to store frame file paths\n",
    "frames = []\n",
    "\n",
    "for row in range(state_data.getNumRows()):\n",
    "    update_model_state(model, state, row)\n",
    "    \n",
    "    # Visualization code (customize as needed)\n",
    "    fig, ax = plt.subplots()\n",
    "    ax.set_xlim([-1, 1])\n",
    "    ax.set_ylim([-1, 2])\n",
    "    \n",
    "    # Example: Plot the center of mass (adjust with your model specifics)\n",
    "    com = model.calcCenterOfMassPosition(state)\n",
    "    ax.plot(com[0], com[1], 'ro')\n",
    "    \n",
    "    # Save the frame\n",
    "    frame_path = f\"{output_dir}/frame_{row:04d}.png\"\n",
    "    plt.savefig(frame_path)\n",
    "    frames.append(frame_path)\n",
    "    plt.close(fig)\n",
    "\n",
    "# Create a video from the frames\n",
    "with imageio.get_writer('walking_motion.mp4', fps=30) as writer:\n",
    "    for frame in frames:\n",
    "        image = imageio.imread(frame)\n",
    "        writer.append_data(image)\n",
    "\n",
    "print(\"Motion video saved as walking_motion.mp4\")\n"
   ]
  },
  {
   "cell_type": "code",
   "execution_count": 11,
   "metadata": {},
   "outputs": [
    {
     "name": "stdout",
     "output_type": "stream",
     "text": [
      "[error] dlerror: dlopen(/Users/admin/Downloads/libjam_plugin.dll.dylib, 0x0009): tried: '/Users/admin/Downloads/libjam_plugin.dll.dylib' (no such file)\n",
      "[error] Failed to load library /Users/admin/Downloads/jam_plugin.dll.dylib\n"
     ]
    }
   ],
   "source": [
    "import opensim as osim\n",
    "\n",
    "# Path to your plugin DLL\n",
    "plugin_path = '/Users/admin/Downloads/jam_plugin.dll'\n",
    "\n",
    "# Load the plugin DLL\n",
    "osim.LoadOpenSimLibrary(plugin_path)"
   ]
  },
  {
   "cell_type": "code",
   "execution_count": null,
   "metadata": {},
   "outputs": [],
   "source": []
  }
 ],
 "metadata": {
  "kernelspec": {
   "display_name": "opensim-env",
   "language": "python",
   "name": "python3"
  },
  "language_info": {
   "codemirror_mode": {
    "name": "ipython",
    "version": 3
   },
   "file_extension": ".py",
   "mimetype": "text/x-python",
   "name": "python",
   "nbconvert_exporter": "python",
   "pygments_lexer": "ipython3",
   "version": "3.10.14"
  }
 },
 "nbformat": 4,
 "nbformat_minor": 2
}
